{
 "cells": [
  {
   "cell_type": "code",
   "execution_count": 34,
   "metadata": {},
   "outputs": [],
   "source": [
    "import pandas as pd\n",
    "import numpy as np\n",
    "import pickle\n",
    "from keras.preprocessing.text import Tokenizer\n",
    "from keras.models import Sequential\n",
    "from keras.layers import Activation, Dense, Dropout\n",
    "from sklearn.preprocessing import LabelBinarizer\n",
    "import sklearn.datasets as skds\n",
    "from pathlib import Path"
   ]
  },
  {
   "cell_type": "code",
   "execution_count": 35,
   "metadata": {},
   "outputs": [],
   "source": [
    "# For reproducibility\n",
    "np.random.seed(1237)\n",
    " \n",
    "# Source file directory\n",
    "path_train = \"D:\\\\PROJETOS\\\\lab\\\\20news-bydate\\\\20news-bydate-train\"\n",
    " \n",
    "files_train = skds.load_files(path_train,load_content=False)\n",
    " \n",
    "label_index = files_train.target\n",
    "label_names = files_train.target_names\n",
    "labelled_files = files_train.filenames\n",
    " \n",
    "data_tags = [\"filename\",\"category\",\"news\"]\n",
    "data_list = []\n",
    " \n",
    "# Read and add data from file to a list\n",
    "i=0\n",
    "for f in labelled_files:\n",
    "    data_list.append((f,label_names[label_index[i]],Path(f).read_text()))\n",
    "    i += 1\n",
    " \n",
    "# We have training data available as dictionary filename, category, data\n",
    "data = pd.DataFrame.from_records(data_list, columns=data_tags)"
   ]
  },
  {
   "cell_type": "code",
   "execution_count": 41,
   "metadata": {},
   "outputs": [],
   "source": [
    "train_size = int(len(data) * .8)\n",
    " \n",
    "train_posts = data['news'][:train_size]\n",
    "train_tags = data['category'][:train_size]\n",
    "train_files_names = data['filename'][:train_size]\n",
    " \n",
    "test_posts = data['news'][train_size:]\n",
    "test_tags = data['category'][train_size:]\n",
    "test_files_names = data['filename'][train_size:]"
   ]
  },
  {
   "cell_type": "code",
   "execution_count": 42,
   "metadata": {},
   "outputs": [],
   "source": [
    "# 20 news groups\n",
    "num_labels = 20\n",
    "vocab_size = 15000\n",
    "batch_size = 100\n",
    " \n",
    "# define Tokenizer with Vocab Size\n",
    "tokenizer = Tokenizer(num_words=vocab_size)\n",
    "tokenizer.fit_on_texts(train_posts)\n",
    " \n",
    "x_train = tokenizer.texts_to_matrix(train_posts, mode='tfidf')\n",
    "x_test = tokenizer.texts_to_matrix(test_posts, mode='tfidf')\n",
    " \n",
    "encoder = LabelBinarizer()\n",
    "encoder.fit(train_tags)\n",
    "y_train = encoder.transform(train_tags)\n",
    "y_test = encoder.transform(test_tags)"
   ]
  },
  {
   "cell_type": "code",
   "execution_count": 43,
   "metadata": {},
   "outputs": [],
   "source": [
    "encoder = LabelBinarizer()\n",
    "encoder.fit(train_tags)\n",
    "y_train = encoder.transform(train_tags)\n",
    "y_test = encoder.transform(test_tags)"
   ]
  },
  {
   "cell_type": "code",
   "execution_count": 44,
   "metadata": {},
   "outputs": [
    {
     "name": "stdout",
     "output_type": "stream",
     "text": [
      "Model: \"sequential_2\"\n",
      "_________________________________________________________________\n",
      "Layer (type)                 Output Shape              Param #   \n",
      "=================================================================\n",
      "dense_3 (Dense)              (None, 512)               7680512   \n",
      "_________________________________________________________________\n",
      "activation_3 (Activation)    (None, 512)               0         \n",
      "_________________________________________________________________\n",
      "dropout_2 (Dropout)          (None, 512)               0         \n",
      "_________________________________________________________________\n",
      "dense_4 (Dense)              (None, 512)               262656    \n",
      "_________________________________________________________________\n",
      "activation_4 (Activation)    (None, 512)               0         \n",
      "_________________________________________________________________\n",
      "dropout_3 (Dropout)          (None, 512)               0         \n",
      "_________________________________________________________________\n",
      "dense_5 (Dense)              (None, 20)                10260     \n",
      "_________________________________________________________________\n",
      "activation_5 (Activation)    (None, 20)                0         \n",
      "=================================================================\n",
      "Total params: 7,953,428\n",
      "Trainable params: 7,953,428\n",
      "Non-trainable params: 0\n",
      "_________________________________________________________________\n",
      "Train on 8145 samples, validate on 906 samples\n",
      "Epoch 1/30\n",
      "8145/8145 [==============================] - 24s 3ms/step - loss: 1.1775 - accuracy: 0.6910 - val_loss: 0.4285 - val_accuracy: 0.8720\n",
      "Epoch 2/30\n",
      "8145/8145 [==============================] - 24s 3ms/step - loss: 0.1459 - accuracy: 0.9726 - val_loss: 0.3698 - val_accuracy: 0.9029\n",
      "Epoch 3/30\n",
      "8145/8145 [==============================] - 24s 3ms/step - loss: 0.0543 - accuracy: 0.9925 - val_loss: 0.3913 - val_accuracy: 0.9084\n",
      "Epoch 4/30\n",
      "8145/8145 [==============================] - 23s 3ms/step - loss: 0.0451 - accuracy: 0.9935 - val_loss: 0.3909 - val_accuracy: 0.9062\n",
      "Epoch 5/30\n",
      "8145/8145 [==============================] - 24s 3ms/step - loss: 0.0536 - accuracy: 0.9931 - val_loss: 0.4218 - val_accuracy: 0.9018\n",
      "Epoch 6/30\n",
      "8145/8145 [==============================] - 23s 3ms/step - loss: 0.0420 - accuracy: 0.9956 - val_loss: 0.4694 - val_accuracy: 0.8996\n",
      "Epoch 7/30\n",
      "8145/8145 [==============================] - 25s 3ms/step - loss: 0.0346 - accuracy: 0.9966 - val_loss: 0.4325 - val_accuracy: 0.9040\n",
      "Epoch 8/30\n",
      "8145/8145 [==============================] - 27s 3ms/step - loss: 0.0292 - accuracy: 0.9971 - val_loss: 0.4671 - val_accuracy: 0.9040\n",
      "Epoch 9/30\n",
      "8145/8145 [==============================] - 29s 3ms/step - loss: 0.0483 - accuracy: 0.9941 - val_loss: 0.6021 - val_accuracy: 0.8786\n",
      "Epoch 10/30\n",
      "8145/8145 [==============================] - 30s 4ms/step - loss: 0.0269 - accuracy: 0.9967 - val_loss: 0.4932 - val_accuracy: 0.8996\n",
      "Epoch 11/30\n",
      "8145/8145 [==============================] - 30s 4ms/step - loss: 0.0340 - accuracy: 0.9958 - val_loss: 0.5646 - val_accuracy: 0.8841\n",
      "Epoch 12/30\n",
      "8145/8145 [==============================] - 31s 4ms/step - loss: 0.0390 - accuracy: 0.9959 - val_loss: 0.5667 - val_accuracy: 0.8797\n",
      "Epoch 13/30\n",
      "8145/8145 [==============================] - 30s 4ms/step - loss: 0.0410 - accuracy: 0.9964 - val_loss: 0.7806 - val_accuracy: 0.8653\n",
      "Epoch 14/30\n",
      "8145/8145 [==============================] - 29s 4ms/step - loss: 0.0710 - accuracy: 0.9909 - val_loss: 0.6892 - val_accuracy: 0.8709\n",
      "Epoch 15/30\n",
      "8145/8145 [==============================] - 30s 4ms/step - loss: 0.0835 - accuracy: 0.9881 - val_loss: 0.7640 - val_accuracy: 0.8753\n",
      "Epoch 16/30\n",
      "8145/8145 [==============================] - 32s 4ms/step - loss: 0.0742 - accuracy: 0.9888 - val_loss: 0.8463 - val_accuracy: 0.8698\n",
      "Epoch 17/30\n",
      "8145/8145 [==============================] - 32s 4ms/step - loss: 0.0766 - accuracy: 0.9905 - val_loss: 0.7835 - val_accuracy: 0.8786\n",
      "Epoch 18/30\n",
      "8145/8145 [==============================] - 31s 4ms/step - loss: 0.0555 - accuracy: 0.9910 - val_loss: 0.8894 - val_accuracy: 0.8598\n",
      "Epoch 19/30\n",
      "8145/8145 [==============================] - 35s 4ms/step - loss: 0.0388 - accuracy: 0.9924 - val_loss: 0.7221 - val_accuracy: 0.8863\n",
      "Epoch 20/30\n",
      "8145/8145 [==============================] - 40s 5ms/step - loss: 0.0704 - accuracy: 0.9903 - val_loss: 0.9551 - val_accuracy: 0.8543\n",
      "Epoch 21/30\n",
      "8145/8145 [==============================] - 33s 4ms/step - loss: 0.0394 - accuracy: 0.9952 - val_loss: 0.7320 - val_accuracy: 0.8951\n",
      "Epoch 22/30\n",
      "8145/8145 [==============================] - 34s 4ms/step - loss: 0.0414 - accuracy: 0.9957 - val_loss: 0.8137 - val_accuracy: 0.8797\n",
      "Epoch 23/30\n",
      "8145/8145 [==============================] - 33s 4ms/step - loss: 0.0530 - accuracy: 0.9944 - val_loss: 0.7997 - val_accuracy: 0.8786\n",
      "Epoch 24/30\n",
      "8145/8145 [==============================] - 36s 4ms/step - loss: 0.0295 - accuracy: 0.9963 - val_loss: 0.8560 - val_accuracy: 0.8786\n",
      "Epoch 25/30\n",
      "8145/8145 [==============================] - 33s 4ms/step - loss: 0.0346 - accuracy: 0.9963 - val_loss: 0.9363 - val_accuracy: 0.8698\n",
      "Epoch 26/30\n",
      "8145/8145 [==============================] - 33s 4ms/step - loss: 0.0586 - accuracy: 0.9929 - val_loss: 0.8715 - val_accuracy: 0.8753\n",
      "Epoch 27/30\n",
      "8145/8145 [==============================] - 41s 5ms/step - loss: 0.0317 - accuracy: 0.9969 - val_loss: 0.8151 - val_accuracy: 0.8841\n",
      "Epoch 28/30\n",
      "8145/8145 [==============================] - 46s 6ms/step - loss: 0.0350 - accuracy: 0.9957 - val_loss: 0.8068 - val_accuracy: 0.8797\n",
      "Epoch 29/30\n",
      "8145/8145 [==============================] - 36s 4ms/step - loss: 0.0301 - accuracy: 0.9971 - val_loss: 0.7986 - val_accuracy: 0.8786\n",
      "Epoch 30/30\n",
      "8145/8145 [==============================] - 39s 5ms/step - loss: 0.0262 - accuracy: 0.9975 - val_loss: 0.8024 - val_accuracy: 0.8797\n"
     ]
    }
   ],
   "source": [
    "model = Sequential()\n",
    "model.add(Dense(512, input_shape=(vocab_size,)))\n",
    "model.add(Activation('relu'))\n",
    "model.add(Dropout(0.3))\n",
    "model.add(Dense(512))\n",
    "model.add(Activation('relu'))\n",
    "model.add(Dropout(0.3))\n",
    "model.add(Dense(num_labels))\n",
    "model.add(Activation('softmax'))\n",
    "model.summary()\n",
    " \n",
    "model.compile(loss='categorical_crossentropy',\n",
    "              optimizer='adam',\n",
    "              metrics=['accuracy'])\n",
    " \n",
    "history = model.fit(x_train, y_train,\n",
    "                    batch_size=batch_size,\n",
    "                    epochs=30,\n",
    "                    verbose=1,\n",
    "                    validation_split=0.1)"
   ]
  },
  {
   "cell_type": "code",
   "execution_count": 45,
   "metadata": {},
   "outputs": [
    {
     "name": "stdout",
     "output_type": "stream",
     "text": [
      "2263/2263 [==============================] - 2s 812us/step\n",
      "Test accuracy: 0.8890852928161621\n",
      "D:\\PROJETOS\\lab\\20news-bydate\\20news-bydate-train\\alt.atheism\\53114\n",
      "Actual label:alt.atheism\n",
      "Predicted label: alt.atheism\n",
      "D:\\PROJETOS\\lab\\20news-bydate\\20news-bydate-train\\comp.graphics\\38666\n",
      "Actual label:comp.graphics\n",
      "Predicted label: comp.graphics\n",
      "D:\\PROJETOS\\lab\\20news-bydate\\20news-bydate-train\\sci.med\\58932\n",
      "Actual label:sci.med\n",
      "Predicted label: sci.med\n",
      "D:\\PROJETOS\\lab\\20news-bydate\\20news-bydate-train\\sci.crypt\\15212\n",
      "Actual label:sci.crypt\n",
      "Predicted label: sci.crypt\n",
      "D:\\PROJETOS\\lab\\20news-bydate\\20news-bydate-train\\comp.os.ms-windows.misc\\9695\n",
      "Actual label:comp.os.ms-windows.misc\n",
      "Predicted label: comp.os.ms-windows.misc\n",
      "D:\\PROJETOS\\lab\\20news-bydate\\20news-bydate-train\\rec.sport.baseball\\104482\n",
      "Actual label:rec.sport.baseball\n",
      "Predicted label: rec.sport.baseball\n",
      "D:\\PROJETOS\\lab\\20news-bydate\\20news-bydate-train\\soc.religion.christian\\20731\n",
      "Actual label:soc.religion.christian\n",
      "Predicted label: sci.med\n",
      "D:\\PROJETOS\\lab\\20news-bydate\\20news-bydate-train\\comp.graphics\\38583\n",
      "Actual label:comp.graphics\n",
      "Predicted label: comp.graphics\n",
      "D:\\PROJETOS\\lab\\20news-bydate\\20news-bydate-train\\rec.sport.hockey\\52638\n",
      "Actual label:rec.sport.hockey\n",
      "Predicted label: rec.sport.hockey\n",
      "D:\\PROJETOS\\lab\\20news-bydate\\20news-bydate-train\\rec.sport.hockey\\52636\n",
      "Actual label:rec.sport.hockey\n",
      "Predicted label: rec.sport.hockey\n"
     ]
    }
   ],
   "source": [
    "score = model.evaluate(x_test, y_test,\n",
    "                       batch_size=batch_size, verbose=1)\n",
    " \n",
    "print('Test accuracy:', score[1])\n",
    " \n",
    "text_labels = encoder.classes_\n",
    " \n",
    "for i in range(10):\n",
    "    prediction = model.predict(np.array([x_test[i]]))\n",
    "    predicted_label = text_labels[np.argmax(prediction[0])]\n",
    "    print(test_files_names.iloc[i])\n",
    "    print('Actual label:' + test_tags.iloc[i])\n",
    "    print(\"Predicted label: \" + predicted_label)"
   ]
  },
  {
   "cell_type": "code",
   "execution_count": 46,
   "metadata": {},
   "outputs": [
    {
     "name": "stderr",
     "output_type": "stream",
     "text": [
      "C:\\ProgramData\\Anaconda3\\lib\\site-packages\\keras\\engine\\sequential.py:111: UserWarning: `Sequential.model` is deprecated. `Sequential` is a subclass of `Model`, you can just use your `Sequential` instance directly.\n",
      "  warnings.warn('`Sequential.model` is deprecated. '\n"
     ]
    }
   ],
   "source": [
    "# creates a HDF5 file 'my_model.h5'\n",
    "model.model.save('my_model.h5')\n",
    " \n",
    "# Save Tokenizer i.e. Vocabulary\n",
    "with open('tokenizer.pickle', 'wb') as handle:\n",
    "    pickle.dump(tokenizer, handle, protocol=pickle.HIGHEST_PROTOCOL)"
   ]
  },
  {
   "cell_type": "code",
   "execution_count": 48,
   "metadata": {},
   "outputs": [],
   "source": [
    "from keras.models import load_model\n",
    "# load our saved model\n",
    "model = load_model('my_model.h5')\n",
    " \n",
    "# load tokenizer\n",
    "tokenizer = Tokenizer()\n",
    "with open('tokenizer.pickle', 'rb') as handle:\n",
    "    tokenizer = pickle.load(handle)"
   ]
  },
  {
   "cell_type": "code",
   "execution_count": 49,
   "metadata": {},
   "outputs": [
    {
     "data": {
      "text/plain": [
       "array(['alt.atheism', 'comp.graphics', 'comp.os.ms-windows.misc',\n",
       "       'comp.sys.ibm.pc.hardware', 'comp.sys.mac.hardware',\n",
       "       'comp.windows.x', 'misc.forsale', 'rec.autos', 'rec.motorcycles',\n",
       "       'rec.sport.baseball', 'rec.sport.hockey', 'sci.crypt',\n",
       "       'sci.electronics', 'sci.med', 'sci.space',\n",
       "       'soc.religion.christian', 'talk.politics.guns',\n",
       "       'talk.politics.mideast', 'talk.politics.misc',\n",
       "       'talk.religion.misc'], dtype='<U24')"
      ]
     },
     "execution_count": 49,
     "metadata": {},
     "output_type": "execute_result"
    }
   ],
   "source": [
    "encoder.classes_ #LabelBinarizer"
   ]
  },
  {
   "cell_type": "code",
   "execution_count": 51,
   "metadata": {},
   "outputs": [
    {
     "name": "stdout",
     "output_type": "stream",
     "text": [
      "File -> D:\\PROJETOS\\lab\\20news-bydate\\20news-bydate-test\\comp.graphics\\38758 Predicted label: comp.graphics\n",
      "File -> D:\\PROJETOS\\lab\\20news-bydate\\20news-bydate-test\\misc.forsale\\76115 Predicted label: comp.sys.ibm.pc.hardware\n",
      "File -> D:\\PROJETOS\\lab\\20news-bydate\\20news-bydate-test\\soc.religion.christian\\21329 Predicted label: soc.religion.christian\n"
     ]
    }
   ],
   "source": [
    "# These are the labels we stored from our training\n",
    "# The order is very important here.\n",
    " \n",
    "labels = np.array(['alt.atheism', 'comp.graphics', 'comp.os.ms-windows.misc',\n",
    " 'comp.sys.ibm.pc.hardware', 'comp.sys.mac.hardware', 'comp.windows.x',\n",
    " 'misc.forsale', 'rec.autos', 'rec.motorcycles', 'rec.sport.baseball',\n",
    " 'rec.sport.hockey', 'sci.crypt', 'sci.electronics', 'sci.med', 'sci.space',\n",
    " 'soc.religion.christian', 'talk.politics.guns', 'talk.politics.mideast',\n",
    " 'talk.politics.misc', 'talk.religion.misc'])\n",
    " \n",
    "test_files = [\"D:\\\\PROJETOS\\\\lab\\\\20news-bydate\\\\20news-bydate-test\\\\comp.graphics\\\\38758\",\n",
    "              \"D:\\\\PROJETOS\\\\lab\\\\20news-bydate\\\\20news-bydate-test\\\\misc.forsale\\\\76115\",\n",
    "              \"D:\\\\PROJETOS\\\\lab\\\\20news-bydate\\\\20news-bydate-test\\\\soc.religion.christian\\\\21329\"\n",
    "              ]\n",
    "x_data = []\n",
    "for t_f in test_files:\n",
    "    t_f_data = Path(t_f).read_text()\n",
    "    x_data.append(t_f_data)\n",
    " \n",
    "x_data_series = pd.Series(x_data)\n",
    "x_tokenized = tokenizer.texts_to_matrix(x_data_series, mode='tfidf')\n",
    " \n",
    "i=0\n",
    "for x_t in x_tokenized:\n",
    "    prediction = model.predict(np.array([x_t]))\n",
    "    predicted_label = labels[np.argmax(prediction[0])]\n",
    "    print(\"File ->\", test_files[i], \"Predicted label: \" + predicted_label)\n",
    "    i += 1"
   ]
  },
  {
   "cell_type": "code",
   "execution_count": null,
   "metadata": {},
   "outputs": [],
   "source": []
  }
 ],
 "metadata": {
  "kernelspec": {
   "display_name": "Python 3",
   "language": "python",
   "name": "python3"
  },
  "language_info": {
   "codemirror_mode": {
    "name": "ipython",
    "version": 3
   },
   "file_extension": ".py",
   "mimetype": "text/x-python",
   "name": "python",
   "nbconvert_exporter": "python",
   "pygments_lexer": "ipython3",
   "version": "3.6.5"
  }
 },
 "nbformat": 4,
 "nbformat_minor": 2
}
